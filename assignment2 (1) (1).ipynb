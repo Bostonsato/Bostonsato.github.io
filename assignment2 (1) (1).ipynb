{
 "cells": [
  {
   "cell_type": "code",
   "execution_count": 1,
   "id": "0a43b938-70bb-4a89-90fe-5d7f91d79493",
   "metadata": {
    "tags": []
   },
   "outputs": [
    {
     "name": "stdin",
     "output_type": "stream",
     "text": [
      "Enter first number- 1\n",
      "Enter second number- 1\n"
     ]
    },
    {
     "name": "stdout",
     "output_type": "stream",
     "text": [
      "Selecte Operation\n",
      "1.Add\n",
      "2.Subtraction\n",
      "3.Multiplication\n",
      "4.Division\n"
     ]
    },
    {
     "name": "stdin",
     "output_type": "stream",
     "text": [
      "Enter operation of choice 1,2,3,4,: 1\n"
     ]
    },
    {
     "name": "stdout",
     "output_type": "stream",
     "text": [
      "Result: 2.0\n"
     ]
    }
   ],
   "source": [
    "def add(a,b):\n",
    "     return a + b\n",
    "\n",
    "def substract(a,b):\n",
    "     return a- b\n",
    "\n",
    "def multiply(a,b):\n",
    "     return a * b\n",
    "    \n",
    "def divide(a,b):\n",
    "     return a / b\n",
    "\n",
    "\n",
    "a=float(input('Enter first number-'))\n",
    "b=float(input('Enter second number-'))\n",
    "print('Selecte Operation')\n",
    "print('1.Add')\n",
    "print('2.Subtraction')\n",
    "print('3.Multiplication')\n",
    "print('4.Division')\n",
    "\n",
    "\n",
    "\n",
    "choice= input(\"Enter operation of choice 1,2,3,4,:\")\n",
    "    \n",
    "if choice == '1':\n",
    "        print(\"Result:\", add(a,b))\n",
    "elif choice == '2':\n",
    "        print(\"Result:\", substract(a,b))\n",
    "elif choice == '3':\n",
    "        print(\"Result:\", multiply(a,b))\n",
    "elif choice == '4':\n",
    "        print(\"Result:\", divide(a,b))\n",
    "\n",
    "    \n",
    "\n",
    "    \n"
   ]
  },
  {
   "cell_type": "code",
   "execution_count": null,
   "id": "afa31eaf-99fe-4bf5-b11f-033c45821d10",
   "metadata": {},
   "outputs": [],
   "source": []
  },
  {
   "cell_type": "code",
   "execution_count": null,
   "id": "1e8f9cfb-db76-48ee-8455-b8766fc0bc1c",
   "metadata": {},
   "outputs": [],
   "source": []
  },
  {
   "cell_type": "code",
   "execution_count": null,
   "id": "2ce56a4b-6232-40bb-9425-abedd5e5b894",
   "metadata": {},
   "outputs": [],
   "source": [
    "Program 2 "
   ]
  },
  {
   "cell_type": "code",
   "execution_count": 3,
   "id": "144f77a3-4591-4867-807b-c8e09de5a96c",
   "metadata": {
    "tags": []
   },
   "outputs": [
    {
     "name": "stdin",
     "output_type": "stream",
     "text": [
      "Enter an integer:  4\n"
     ]
    },
    {
     "name": "stdout",
     "output_type": "stream",
     "text": [
      "The factorial of 4 is: 24\n"
     ]
    }
   ],
   "source": [
    "def factorial(n):\n",
    "    if n == 0:\n",
    "        return 1\n",
    "    else:\n",
    "        return n * factorial(n - 1)\n",
    "\n",
    "n = int(input(\"Enter an integer: \"))\n",
    "\n",
    "if n < 0:\n",
    "    print(\"Factorial is not defined for negative numbers.\")\n",
    "else:\n",
    "    result = factorial(n)\n",
    "    print(f\"The factorial of {n} is: {result}\")"
   ]
  },
  {
   "cell_type": "code",
   "execution_count": null,
   "id": "85ee479b-09a4-4f13-a103-718f39c9b2f6",
   "metadata": {},
   "outputs": [],
   "source": []
  },
  {
   "cell_type": "code",
   "execution_count": null,
   "id": "f6b1166d-bbd8-4242-880e-1d0e01c27bb5",
   "metadata": {},
   "outputs": [],
   "source": []
  },
  {
   "cell_type": "code",
   "execution_count": null,
   "id": "07be1d44-b1d2-4f85-ad5b-97ee894be41e",
   "metadata": {},
   "outputs": [],
   "source": [
    "Program 3 "
   ]
  },
  {
   "cell_type": "code",
   "execution_count": 1,
   "id": "41aa95a7-e794-4c43-9272-ce2e8590981c",
   "metadata": {
    "tags": []
   },
   "outputs": [
    {
     "name": "stdin",
     "output_type": "stream",
     "text": [
      "enter a grocery list: eggs, milk, bread\n"
     ]
    },
    {
     "name": "stdout",
     "output_type": "stream",
     "text": [
      "['EGGS,', 'MILK,', 'BREAD']\n"
     ]
    }
   ],
   "source": [
    "grocery=input(\"enter a grocery list:\")\n",
    "sen=grocery.split()\n",
    "lit=[sen.upper() for sen in  sen]\n",
    "print(lit)"
   ]
  },
  {
   "cell_type": "code",
   "execution_count": null,
   "id": "8466dd24-d751-49d7-aaac-0305086971e7",
   "metadata": {},
   "outputs": [],
   "source": []
  },
  {
   "cell_type": "code",
   "execution_count": null,
   "id": "4624012d-f531-4eb3-80a0-04e79839b02a",
   "metadata": {},
   "outputs": [],
   "source": []
  },
  {
   "cell_type": "code",
   "execution_count": null,
   "id": "4c604a7a-3c80-43e7-8c65-7a9ca643cbcb",
   "metadata": {},
   "outputs": [],
   "source": [
    "Program 4"
   ]
  },
  {
   "cell_type": "code",
   "execution_count": 9,
   "id": "25dbe455-757b-4639-ad9d-1923b4b05de9",
   "metadata": {
    "tags": []
   },
   "outputs": [
    {
     "name": "stdout",
     "output_type": "stream",
     "text": [
      "The number of vowels in 'abdnedoxydi' is 4\n"
     ]
    }
   ],
   "source": [
    "def count_vowels(string):\n",
    "    vowels = \"AEIOUaeiou\" \n",
    "    count = 0  \n",
    "\n",
    "    for char in string:\n",
    "        if char in vowels:\n",
    "            count += 1  \n",
    "\n",
    "    return count\n",
    "\n",
    "string_list = [\"abdnedoxydi\"]\n",
    "\n",
    "for string in string_list:\n",
    "    vowel_count = count_vowels(string)\n",
    "    print(f\"The number of vowels in '{string}' is {vowel_count}\")"
   ]
  },
  {
   "cell_type": "code",
   "execution_count": null,
   "id": "f8a98daf-4e58-4a23-9d80-2188bcfc58de",
   "metadata": {},
   "outputs": [],
   "source": []
  },
  {
   "cell_type": "code",
   "execution_count": null,
   "id": "ea6d7319-7092-427c-8d4e-2f788c72e684",
   "metadata": {},
   "outputs": [],
   "source": []
  },
  {
   "cell_type": "code",
   "execution_count": null,
   "id": "7c4cee95-76d0-458e-835d-ba5f270b61bd",
   "metadata": {},
   "outputs": [],
   "source": [
    "Program 5 "
   ]
  },
  {
   "cell_type": "code",
   "execution_count": 10,
   "id": "6c7666f5-adf1-41fe-99cb-cc9c8dba03b0",
   "metadata": {
    "tags": []
   },
   "outputs": [
    {
     "name": "stdin",
     "output_type": "stream",
     "text": [
      "Enter your annual income:  100000\n"
     ]
    },
    {
     "name": "stdout",
     "output_type": "stream",
     "text": [
      "Your income tax is: $7250.0\n"
     ]
    }
   ],
   "source": [
    "def calculate_income_tax(annual_income):\n",
    "    if annual_income <= 0:\n",
    "        return \"Invalid income. Please enter a positive annual income.\"\n",
    "\n",
    "    if annual_income <= 40000:\n",
    "        income_tax = 0\n",
    "    elif annual_income <= 75000:\n",
    "        income_tax = (annual_income - 40000) * 0.10\n",
    "    elif annual_income <= 150000:\n",
    "        income_tax = (75000 - 40000) * 0.10 + (annual_income - 75000) * 0.15\n",
    "    elif annual_income <= 250000:\n",
    "        income_tax = (75000 - 40000) * 0.10 + (150000 - 75000) * 0.15 + (annual_income - 150000) * 0.20\n",
    "    elif annual_income <= 400000:\n",
    "        income_tax = (75000 - 40000) * 0.10 + (150000 - 75000) * 0.15 + (250000 - 150000) * 0.20 + (annual_income - 250000) * 0.25\n",
    "    else:\n",
    "        income_tax = (75000 - 40000) * 0.10 + (150000 - 75000) * 0.15 + (250000 - 150000) * 0.20 + (400000 - 250000) * 0.25 + (annual_income - 400000) * 0.30\n",
    "\n",
    "    return round(income_tax, 2)\n",
    "\n",
    "while True:\n",
    "    try:\n",
    "        annual_income = float(input(\"Enter your annual income: \"))\n",
    "        income_tax = calculate_income_tax(annual_income)\n",
    "        print(f\"Your income tax is: ${income_tax}\")\n",
    "        break\n",
    "    except ValueError:\n",
    "        print(\"Invalid input. Please enter a valid annual income (a positive number).\")"
   ]
  },
  {
   "cell_type": "code",
   "execution_count": null,
   "id": "e59ef0c9-7bc7-4e02-bb88-4c7b198bfd77",
   "metadata": {},
   "outputs": [],
   "source": []
  },
  {
   "cell_type": "code",
   "execution_count": null,
   "id": "bb318feb-6dfe-4a10-9cca-098ffb53e607",
   "metadata": {},
   "outputs": [],
   "source": []
  },
  {
   "cell_type": "code",
   "execution_count": null,
   "id": "433c2984-ba19-41b9-984d-c4e1326fc30f",
   "metadata": {},
   "outputs": [],
   "source": [
    "Program 6 "
   ]
  },
  {
   "cell_type": "code",
   "execution_count": 11,
   "id": "1517facd-0fd3-4039-befe-7df446e762c9",
   "metadata": {
    "tags": []
   },
   "outputs": [
    {
     "name": "stdin",
     "output_type": "stream",
     "text": [
      "Enter the number of items bought:  8\n"
     ]
    },
    {
     "name": "stdout",
     "output_type": "stream",
     "text": [
      "The total price after discount is: $86.14\n"
     ]
    }
   ],
   "source": [
    "def total_price(num_items):\n",
    "    unit_price = 10.768 \n",
    "    total_cost = num_items * unit_price\n",
    "    \n",
    "    if num_items <= 20:\n",
    "        discount = 0\n",
    "    elif 21 <= num_items <= 50:\n",
    "        discount = 0.10\n",
    "    elif 51 <= num_items <= 100:\n",
    "        discount = 0.20\n",
    "    else:\n",
    "        discount = 0.25\n",
    "    \n",
    "    discounted_price = total_cost - (total_cost * discount)\n",
    "    \n",
    "    return round(discounted_price, 2)\n",
    "\n",
    "while True:\n",
    "    try:\n",
    "        num_items = int(input(\"Enter the number of items bought: \"))\n",
    "        if num_items < 0:\n",
    "            print(\"Please enter a non-negative number of items.\")\n",
    "        else:\n",
    "            break\n",
    "    except ValueError:\n",
    "        print(\"Invalid input. Please enter a valid number.\")\n",
    "\n",
    "total = total_price(num_items)\n",
    "print(f\"The total price after discount is: ${total}\")"
   ]
  },
  {
   "cell_type": "code",
   "execution_count": null,
   "id": "d79e0f1c-adca-461d-86ff-6ac96610860a",
   "metadata": {},
   "outputs": [],
   "source": []
  },
  {
   "cell_type": "code",
   "execution_count": null,
   "id": "38234a78-99fa-452b-a6e0-52a8c91739a9",
   "metadata": {},
   "outputs": [],
   "source": []
  }
 ],
 "metadata": {
  "kernelspec": {
   "display_name": "Python 3 (ipykernel)",
   "language": "python",
   "name": "python3"
  },
  "language_info": {
   "codemirror_mode": {
    "name": "ipython",
    "version": 3
   },
   "file_extension": ".py",
   "mimetype": "text/x-python",
   "name": "python",
   "nbconvert_exporter": "python",
   "pygments_lexer": "ipython3",
   "version": "3.11.4"
  }
 },
 "nbformat": 4,
 "nbformat_minor": 5
}
