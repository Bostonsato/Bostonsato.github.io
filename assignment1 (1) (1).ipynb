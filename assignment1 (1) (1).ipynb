{
 "cells": [
  {
   "cell_type": "code",
   "execution_count": 3,
   "id": "5bae86f7-4074-4bea-943b-a0967eb63ddd",
   "metadata": {
    "tags": []
   },
   "outputs": [
    {
     "name": "stdin",
     "output_type": "stream",
     "text": [
      "Enter the radius of a circle: 2\n"
     ]
    },
    {
     "name": "stdout",
     "output_type": "stream",
     "text": [
      "the diameter of the circle is: 4.0\n",
      "the area of the circle is: 6.28\n"
     ]
    }
   ],
   "source": [
    "radius= float(input(\"Enter the radius of a circle:\"))\n",
    "diameter= radius*2\n",
    "import math\n",
    "area= math.pi*radius\n",
    "print(\"the diameter of the circle is:\", diameter)\n",
    "print(\"the area of the circle is:\",round( area, 2 ))\n",
    "    \n"
   ]
  },
  {
   "cell_type": "code",
   "execution_count": null,
   "id": "d3e0d131-a1fb-44c7-a1c0-339b945dbdd8",
   "metadata": {},
   "outputs": [],
   "source": []
  },
  {
   "cell_type": "code",
   "execution_count": null,
   "id": "e712448f-8a4c-4d84-a86d-07a49176cd10",
   "metadata": {},
   "outputs": [],
   "source": []
  },
  {
   "cell_type": "code",
   "execution_count": 4,
   "id": "238253f1-84fb-421d-92df-22d4fef73ee8",
   "metadata": {
    "tags": []
   },
   "outputs": [
    {
     "name": "stdin",
     "output_type": "stream",
     "text": [
      "enter the current temperature= 78\n"
     ]
    },
    {
     "name": "stdout",
     "output_type": "stream",
     "text": [
      "the current temperature converted to Farenheit is 172.4\n"
     ]
    }
   ],
   "source": [
    "celsius=float(input(\"enter the current temperature=\"))\n",
    "fahre=(celsius*1.8)+32\n",
    "print(\"the current temperature converted to Farenheit is\", fahre)\n"
   ]
  },
  {
   "cell_type": "code",
   "execution_count": null,
   "id": "46599e85-46ac-4bed-aa65-7811b9dc80d5",
   "metadata": {},
   "outputs": [],
   "source": []
  },
  {
   "cell_type": "code",
   "execution_count": null,
   "id": "9efaeafc-37a9-43b0-8be6-2f65254cd238",
   "metadata": {},
   "outputs": [],
   "source": []
  },
  {
   "cell_type": "code",
   "execution_count": 6,
   "id": "8c50d06a-c1a9-449f-a607-fd92bbc20f26",
   "metadata": {
    "tags": []
   },
   "outputs": [
    {
     "name": "stdin",
     "output_type": "stream",
     "text": [
      "enter a number 11\n"
     ]
    },
    {
     "name": "stdout",
     "output_type": "stream",
     "text": [
      "This integer is odd\n"
     ]
    }
   ],
   "source": [
    "num=int(input(\"enter a number\"))\n",
    "\n",
    "if num % 2 == 0:\n",
    "    print(\"This integer is even\")\n",
    "else:\n",
    "    print(\"This integer is odd\")\n"
   ]
  },
  {
   "cell_type": "code",
   "execution_count": null,
   "id": "8c983cae-3340-4f70-a3bb-e36f4359ef7c",
   "metadata": {},
   "outputs": [],
   "source": []
  },
  {
   "cell_type": "code",
   "execution_count": null,
   "id": "a532923d-97f4-40b5-a0fa-7e6df4eb43c8",
   "metadata": {},
   "outputs": [],
   "source": []
  },
  {
   "cell_type": "code",
   "execution_count": 2,
   "id": "6172c3e9-e4a1-4565-b846-5618248707a5",
   "metadata": {
    "tags": []
   },
   "outputs": [
    {
     "name": "stdin",
     "output_type": "stream",
     "text": [
      "how many hours a week do you work 50\n",
      "What is your pay rate per hour 20\n"
     ]
    },
    {
     "name": "stdout",
     "output_type": "stream",
     "text": [
      "your extra pay is 25.0\n"
     ]
    }
   ],
   "source": [
    "workhours=float(input(\"how many hours a week do you work\"))\n",
    "payrate=float(input(\"What is your pay rate per hour\"))\n",
    "if workhours>=40:\n",
    "    grosspay= workhours*0.50\n",
    "    print(\"your extra pay is\", grosspay)\n",
    "else:\n",
    "    print(\"your weekly grosspay is:\", payrate)"
   ]
  },
  {
   "cell_type": "code",
   "execution_count": null,
   "id": "659dae73-868b-4e8b-8e47-4c9e4383bcd8",
   "metadata": {},
   "outputs": [],
   "source": []
  },
  {
   "cell_type": "code",
   "execution_count": null,
   "id": "ed7f34e0-98c4-4b40-be90-18c5975df3ab",
   "metadata": {},
   "outputs": [],
   "source": []
  },
  {
   "cell_type": "code",
   "execution_count": 1,
   "id": "41c99455-d09c-44fa-ad74-83f7a951dcf4",
   "metadata": {
    "tags": []
   },
   "outputs": [
    {
     "name": "stdin",
     "output_type": "stream",
     "text": [
      "enter your score between 1 and 100: 56\n"
     ]
    },
    {
     "name": "stdout",
     "output_type": "stream",
     "text": [
      "Your grade is.. F\n"
     ]
    }
   ],
   "source": [
    "score=float(input(\"enter your score between 1 and 100:\"))\n",
    "if 0 <= score <= 100:\n",
    "    if score >= 90:\n",
    "        grade = \"A\"\n",
    "    elif score >= 80:\n",
    "        grade = \"B\"\n",
    "    elif score >= 70:\n",
    "        grade = \"C\"\n",
    "    elif score >= 60:\n",
    "        grade = \"D\"\n",
    "    elif score <60:\n",
    "         grade = \"F\"\n",
    "    print(\"Your grade is..\", grade)"
   ]
  },
  {
   "cell_type": "code",
   "execution_count": null,
   "id": "6bf57dc8-1e20-4d31-9fd8-91cb6bce7121",
   "metadata": {},
   "outputs": [],
   "source": []
  }
 ],
 "metadata": {
  "kernelspec": {
   "display_name": "Python 3 (ipykernel)",
   "language": "python",
   "name": "python3"
  },
  "language_info": {
   "codemirror_mode": {
    "name": "ipython",
    "version": 3
   },
   "file_extension": ".py",
   "mimetype": "text/x-python",
   "name": "python",
   "nbconvert_exporter": "python",
   "pygments_lexer": "ipython3",
   "version": "3.11.4"
  }
 },
 "nbformat": 4,
 "nbformat_minor": 5
}
