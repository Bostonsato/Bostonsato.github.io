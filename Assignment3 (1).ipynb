{
 "cells": [
  {
   "cell_type": "code",
   "execution_count": null,
   "id": "55d65f01-8323-4280-8614-fbcd4184e0d3",
   "metadata": {},
   "outputs": [],
   "source": [
    "program 1 "
   ]
  },
  {
   "cell_type": "code",
   "execution_count": 2,
   "id": "fb4616fd-6303-4b0d-aaa8-0af9e8ac14d6",
   "metadata": {
    "tags": []
   },
   "outputs": [
    {
     "name": "stdout",
     "output_type": "stream",
     "text": [
      "Area of the square: 100 square cm\n",
      "Perimeter of the square: 40 cm\n"
     ]
    }
   ],
   "source": [
    "class Rectangle:\n",
    "    def __init__(self, length, width):\n",
    "        self.length=length\n",
    "        self.width=width\n",
    "\n",
    "    def calculateArea(self):\n",
    "        area = self.length * self.width\n",
    "        return area\n",
    "\n",
    "    def calculatePerimeter(self):\n",
    "        perimeter=2*(self.length+self.width)\n",
    "        return perimeter\n",
    "\n",
    "square=Rectangle(10, 10)\n",
    "\n",
    "area=square.calculateArea()\n",
    "print(f\"Area of the square: {area} square cm\")\n",
    "\n",
    "perimeter=square.calculatePerimeter()\n",
    "print(f\"Perimeter of the square: {perimeter} cm\")\n"
   ]
  },
  {
   "cell_type": "code",
   "execution_count": null,
   "id": "2494b469-9c7b-4ba1-9123-9ba6f25fe376",
   "metadata": {},
   "outputs": [],
   "source": []
  },
  {
   "cell_type": "code",
   "execution_count": null,
   "id": "36c4e7d9-2956-4c3d-bf05-d44b946c790d",
   "metadata": {},
   "outputs": [],
   "source": []
  },
  {
   "cell_type": "code",
   "execution_count": null,
   "id": "6cb97a6d-3bf7-46a7-9136-334dd1adfb58",
   "metadata": {},
   "outputs": [],
   "source": [
    "Program 2 "
   ]
  },
  {
   "cell_type": "code",
   "execution_count": 3,
   "id": "54bf6803-6623-45e5-b750-40d65ebce844",
   "metadata": {
    "tags": []
   },
   "outputs": [
    {
     "name": "stdout",
     "output_type": "stream",
     "text": [
      "Name: Tom\n",
      "Grade for Tom: C\n"
     ]
    }
   ],
   "source": [
    "class Student:\n",
    "    university=\"ABC university\"\n",
    "\n",
    "    def __init__(self, name, sid):\n",
    "        self.name=name\n",
    "        self.sid=sid\n",
    "\n",
    "    def displayName(self):\n",
    "        print(\"Name:\", self.name)\n",
    "\n",
    "    def displayGrade(self):\n",
    "        pass\n",
    "\n",
    "\n",
    "class Grade(Student):\n",
    "    def __init__(self, name, sid, courseGrade):\n",
    "        super().__init__(name, sid)\n",
    "        self.courseGrade = courseGrade\n",
    "\n",
    "    def displayGrade(self):\n",
    "        if self.courseGrade<=59.44:\n",
    "            letter_grade='F'\n",
    "        elif 59.45<=self.courseGrade<=69.44:\n",
    "            letter_grade='D'\n",
    "        elif 69.45<=self.courseGrade<=79.44:\n",
    "            letter_grade='C'\n",
    "        elif 79.45<=self.courseGrade<=89.44:\n",
    "            letter_grade='B'\n",
    "        else:\n",
    "            letter_grade='A'\n",
    "\n",
    "        print(f\"Grade for {self.name}: {letter_grade}\")\n",
    "\n",
    "student_grade=Grade(name=\"Tom\", sid=\"s1\", courseGrade=75.3)\n",
    "\n",
    "student_grade.displayName()\n",
    "\n",
    "student_grade.displayGrade()\n"
   ]
  },
  {
   "cell_type": "code",
   "execution_count": null,
   "id": "9676f368-f15f-40fc-a350-7ef3e91a02b3",
   "metadata": {},
   "outputs": [],
   "source": []
  },
  {
   "cell_type": "code",
   "execution_count": null,
   "id": "10e42461-4c60-4e7e-8a51-7e09f5e70689",
   "metadata": {},
   "outputs": [],
   "source": []
  },
  {
   "cell_type": "code",
   "execution_count": null,
   "id": "a0a54cef-ef1d-40d2-be3c-d283e8568ca0",
   "metadata": {},
   "outputs": [],
   "source": [
    "Program 3 "
   ]
  },
  {
   "cell_type": "code",
   "execution_count": 1,
   "id": "f61dfb93-1234-4dac-84a0-45deff8db384",
   "metadata": {
    "tags": []
   },
   "outputs": [
    {
     "name": "stdout",
     "output_type": "stream",
     "text": [
      "Maria's salary is less than John's salary\n",
      "John's salary is greater than Maria's salary\n"
     ]
    }
   ],
   "source": [
    "class Employee:\n",
    "    def __init__(self, name, salary):\n",
    "        self.name=name\n",
    "        self.salary=salary\n",
    "\n",
    "    def __lt__(self, other):\n",
    "        return self.salary<other.salary\n",
    "\n",
    "    def __gt__(self, other):\n",
    "        return self.salary>other.salary\n",
    "\n",
    "john=Employee(name=\"John\", salary=5000.50)\n",
    "maria=Employee(name=\"Maria\", salary=4090.50)\n",
    "\n",
    "if maria<john:\n",
    "    print(f\"{maria.name}'s salary is less than {john.name}'s salary\")\n",
    "else:\n",
    "    print(f\"{maria.name}'s salary is not less than {john.name}'s salary\")\n",
    "\n",
    "if john>maria:\n",
    "    print(f\"{john.name}'s salary is greater than {maria.name}'s salary\")\n",
    "else:\n",
    "    print(f\"{john.name}'s salary is not greater than {maria.name}'s salary\")\n"
   ]
  },
  {
   "cell_type": "code",
   "execution_count": null,
   "id": "ecf915d3-ae8d-451c-bded-c75c23f555a4",
   "metadata": {},
   "outputs": [],
   "source": []
  },
  {
   "cell_type": "code",
   "execution_count": null,
   "id": "80293e4e-7aa6-49d7-ad47-8e465e50a60a",
   "metadata": {},
   "outputs": [],
   "source": []
  },
  {
   "cell_type": "code",
   "execution_count": null,
   "id": "88f5865c-a820-4e93-986f-3a86fc765d1d",
   "metadata": {},
   "outputs": [],
   "source": [
    "Program 4 "
   ]
  },
  {
   "cell_type": "code",
   "execution_count": null,
   "id": "9a05251a-e214-4a8e-bc32-ace3b8f16068",
   "metadata": {
    "tags": []
   },
   "outputs": [],
   "source": [
    "import tkinter as tk\n",
    "from tkinter import messagebox\n",
    "\n",
    "class IncomeTaxCalculator:\n",
    "    def __init__(self, master):\n",
    "        self.master=master\n",
    "        self.master.title(\"Income tax calculator\")\n",
    "\n",
    "        self.label_name=tk.Label(master, text=\"Name:\")\n",
    "        self.label_name.grid(row=0, column=0, pady=10, padx=10, sticky=tk.W)\n",
    "\n",
    "        self.entry_name=tk.Entry(master)\n",
    "        self.entry_name.grid(row=0, column=1, pady=10, padx=10)\n",
    "\n",
    "        self.label_income=tk.Label(master, text=\"Annual Salary:\")\n",
    "        self.label_income.grid(row=1, column=0, pady=10, padx=10, sticky=tk.W)\n",
    "\n",
    "        self.entry_income=tk.Entry(master)\n",
    "        self.entry_income.grid(row=1, column=1, pady=10, padx=10)\n",
    "\n",
    "        self.calculate_button=tk.Button(master, text=\"Calculate Tax\", command=self.calculate_tax)\n",
    "        self.calculate_button.grid(row=2, column=0, columnspan=2, pady=20)\n",
    "\n",
    "    def calculate_tax(self):\n",
    "        try:\n",
    "            income=float(self.entry_income.get())\n",
    "            tax=income*0.10  # 10% of the income\n",
    "            messagebox.showinfo(\"Result\", f\"Tax for {self.entry_name.get()}: {tax}\")\n",
    "        except ValueError:\n",
    "            messagebox.showerror(\"Error\", \"Please enter a valid numeric value for Annual Salary.\")\n",
    "\n",
    "if __name__==\"__main__\":\n",
    "    root=tk.Tk()\n",
    "    app=IncomeTaxCalculator(root)\n",
    "    root.mainloop()\n"
   ]
  },
  {
   "cell_type": "code",
   "execution_count": null,
   "id": "bed2ef9d-71b3-4f59-ab54-b0a0fb352b42",
   "metadata": {},
   "outputs": [],
   "source": []
  }
 ],
 "metadata": {
  "kernelspec": {
   "display_name": "Python 3 (ipykernel)",
   "language": "python",
   "name": "python3"
  },
  "language_info": {
   "codemirror_mode": {
    "name": "ipython",
    "version": 3
   },
   "file_extension": ".py",
   "mimetype": "text/x-python",
   "name": "python",
   "nbconvert_exporter": "python",
   "pygments_lexer": "ipython3",
   "version": "3.11.4"
  }
 },
 "nbformat": 4,
 "nbformat_minor": 5
}
